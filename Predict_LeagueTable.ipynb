{
 "cells": [
  {
   "cell_type": "code",
   "execution_count": 47,
   "metadata": {},
   "outputs": [
    {
     "name": "stdout",
     "output_type": "stream",
     "text": [
      "FIX COLUMN NAME :  12_DoOrDieRaidPoints_TW_7.csv\n",
      "FIX COLUMN NAME :  11_SuperTackles_TW_7.csv\n",
      "FIX COLUMN NAME :  1_TotalPoints_TW_7.csv\n"
     ]
    },
    {
     "data": {
      "text/plain": [
       "0      6\n",
       "1      4\n",
       "2      4\n",
       "3      7\n",
       "4      5\n",
       "5     12\n",
       "6     11\n",
       "7      4\n",
       "8      7\n",
       "9      6\n",
       "10    13\n",
       "11     7\n",
       "Name: SR, dtype: int64"
      ]
     },
     "execution_count": 47,
     "metadata": {},
     "output_type": "execute_result"
    }
   ],
   "source": [
    "##Predicting league table\n",
    "from os import listdir\n",
    "from os.path import isfile, join\n",
    "import pandas as pd\n",
    "path=\"./TeamWise/\"\n",
    "onlyfiles = [f for f in listdir(path) if isfile(join(path, f))]\n",
    "df=[]\n",
    "for i in range(len(onlyfiles)):\n",
    "    if i == 0:\n",
    "        df=pd.read_csv(path+str(onlyfiles[i])).drop('Unnamed: 0',axis=1)\n",
    "    else:\n",
    "        try:\n",
    "            df_tmp=pd.read_csv(path+str(onlyfiles[i]))\n",
    "            df_tmp=df_tmp.drop(df_tmp.columns[0],axis=1) #REMOVE UNNAMED COLUMN\n",
    "            df_tmp=df_tmp.drop(df_tmp.columns[0],axis=1) #REMOVE RANK COLUMN\n",
    "            df=pd.merge(df,df_tmp,how='left',left_on=['Name','MP'],right_on=['Name','MP'])     \n",
    "        except:\n",
    "            print('FIX COLUMN NAME : ',onlyfiles[i])\n",
    "            pass\n",
    "\n",
    "    \n"
   ]
  },
  {
   "cell_type": "code",
   "execution_count": null,
   "metadata": {},
   "outputs": [],
   "source": []
  }
 ],
 "metadata": {
  "kernelspec": {
   "display_name": "Python 3",
   "language": "python",
   "name": "python3"
  },
  "language_info": {
   "codemirror_mode": {
    "name": "ipython",
    "version": 3
   },
   "file_extension": ".py",
   "mimetype": "text/x-python",
   "name": "python",
   "nbconvert_exporter": "python",
   "pygments_lexer": "ipython3",
   "version": "3.6.8"
  }
 },
 "nbformat": 4,
 "nbformat_minor": 2
}
