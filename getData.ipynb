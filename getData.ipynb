{
 "cells": [
  {
   "cell_type": "code",
   "execution_count": 1,
   "metadata": {},
   "outputs": [
    {
     "name": "stdout",
     "output_type": "stream",
     "text": [
      "\n",
      "Checking for linux64 chromedriver:76.0.3809.126 in cache\n",
      "Driver found in /home/shakti/.wdm/chromedriver/76.0.3809.126/linux64/chromedriver\n"
     ]
    }
   ],
   "source": [
    "from bs4 import BeautifulSoup\n",
    "from selenium  import webdriver\n",
    "from webdriver_manager.chrome import ChromeDriverManager\n",
    "from selenium.webdriver.common.action_chains import ActionChains \n",
    "from selenium.webdriver.common.touch_actions import TouchActions\n",
    "import time\n",
    "import pandas as pd\n",
    "driver = webdriver.Chrome(ChromeDriverManager().install())\n",
    "\n"
   ]
  },
  {
   "cell_type": "code",
   "execution_count": 2,
   "metadata": {},
   "outputs": [],
   "source": [
    "driver.get('https://www.prokabaddi.com')\n",
    "time.sleep(1)\n",
    "standings=driver.find_element_by_link_text(\"Standings\")\n",
    "standings.click()\n",
    "#### TO WRITE DRIVER PAGE AS HTML\n",
    "#soup = BeautifulSoup(driver.page_source,\"html.parser\")\n",
    "# with open(\"StandingsPage1.html\", \"w\") as file:\n",
    "#     file.write(str(soup))\n",
    "time.sleep(2)\n",
    "tableCOntent=driver.find_element_by_class_name(\"sipk-standing-page \")\n",
    "table=tableCOntent.text\n",
    "table=table.split('\\n')[1:]\n",
    "numberOfColumns=8\n",
    "numberOfTeams=12\n",
    "columns=table[:numberOfColumns]\n",
    "tablevalues=[]\n",
    "for i in range(numberOfColumns,len(table),numberOfColumns):\n",
    "    tablevalues.append(table[i:i+numberOfColumns])\n",
    "tablevalues=tablevalues[:numberOfTeams]\n",
    "LeagueTable=pd.DataFrame.from_records(tablevalues,columns=columns)\n",
    "LeagueTable.to_csv(\"./Leaguetable.csv\")"
   ]
  },
  {
   "cell_type": "code",
   "execution_count": null,
   "metadata": {},
   "outputs": [],
   "source": []
  },
  {
   "cell_type": "code",
   "execution_count": 111,
   "metadata": {},
   "outputs": [],
   "source": [
    "# from selenium.webdriver.common.keys import Keys \n",
    "# driver.get('https://www.prokabaddi.com')\n",
    "# time.sleep(1)\n",
    "# Schedule=driver.find_element_by_class_name(\"schedule-fixtures-results\")\n",
    "# time.sleep(1)\n",
    "# driver.find_element_by_tag_name('body').send_keys(Keys.CONTROL + Keys.HOME)\n",
    "# time.sleep(1)\n",
    "# # table=driver.find_element_by_class_name(\"more-btn\")\n",
    "# # table.click()\n",
    "# # #### TO WRITE DRIVER PAGE AS HTML\n",
    "# soup = BeautifulSoup(driver.page_source,\"html.parser\")\n",
    "# with open(\"SchedulePage.html\", \"w\") as file:\n",
    "#     file.write(str(soup))\n",
    "\n",
    "# table=driver.find_element_by_class_name(\"si-rhs-matNumber\")"
   ]
  },
  {
   "cell_type": "code",
   "execution_count": 106,
   "metadata": {},
   "outputs": [
    {
     "data": {
      "text/plain": [
       "''"
      ]
     },
     "execution_count": 106,
     "metadata": {},
     "output_type": "execute_result"
    }
   ],
   "source": []
  },
  {
   "cell_type": "markdown",
   "metadata": {},
   "source": [
    "IMPORTANT GUIDE FOR SELENIUM:\n",
    "https://www.pluralsight.com/guides/web-scraping-with-selenium"
   ]
  },
  {
   "cell_type": "code",
   "execution_count": null,
   "metadata": {},
   "outputs": [],
   "source": []
  },
  {
   "cell_type": "code",
   "execution_count": 3,
   "metadata": {},
   "outputs": [],
   "source": [
    "driver.get('https://www.flashscore.com.au/kabaddi/india/pro-kabaddi/results/')\n",
    "time.sleep(1)\n",
    "fixtureHistory=driver.find_element_by_id(\"live-table\")\n",
    "fixtureHistory=fixtureHistory.text.split('\\n')[3:]\n",
    "# #### TO WRITE DRIVER PAGE AS HTML\n",
    "# soup = BeautifulSoup(driver.page_source,\"html.parser\")\n",
    "# with open(\"ResultsPage.html\", \"w\") as file:\n",
    "#     file.write(str(soup))\n",
    "\n",
    "columns=['Date','HomeTeam','AwayTeam','Total_Points_HomeTeam','Total_Points_AwayTeam','FirstHalf_Points_HomeTeam','FirstHalf_Points_AwayTeam','SecondHalf_Points_HomeTeam','SecondHalf_Points_AwayTeam']\n",
    "tablevalues=[]\n",
    "for i in range(0,len(fixtureHistory),len(columns)):\n",
    "    tablevalues.append(fixtureHistory[i:i+len(columns)])\n",
    "ResultsTable=pd.DataFrame.from_records(tablevalues,columns=columns)\n",
    "ResultsTable.to_csv('./PointsTable.csv')"
   ]
  },
  {
   "cell_type": "code",
   "execution_count": 5,
   "metadata": {},
   "outputs": [],
   "source": [
    "driver.get('https://www.flashscore.com.au/kabaddi/india/pro-kabaddi/fixtures/')\n",
    "time.sleep(1)\n",
    "fixtureUpcoming=driver.find_element_by_id(\"live-table\").text.split('\\n')[3:]\n",
    "fixtureUpcoming\n",
    "columns=['date','HomeTeam','AwayTeam','Drop1','Drop2']\n",
    "tablevalues=[]\n",
    "for i in range(0,len(fixtureUpcoming),len(columns)):\n",
    "    tablevalues.append(fixtureUpcoming[i:i+len(columns)])\n",
    "UpcomingTable=pd.DataFrame.from_records(tablevalues,columns=columns)\n",
    "UpcomingTable=UpcomingTable.drop(['Drop1','Drop2'],axis=1)\n",
    "UpcomingTable.to_csv('./Upcomingfixtures.csv')\n",
    "\n",
    "# #### TO WRITE DRIVER PAGE AS HTML\n",
    "# soup = BeautifulSoup(driver.page_source,\"html.parser\")\n",
    "# with open(\"FixturesPage.html\", \"w\") as file:\n",
    "#     file.write(str(soup))"
   ]
  },
  {
   "cell_type": "code",
   "execution_count": null,
   "metadata": {},
   "outputs": [],
   "source": [
    "driver.quit()"
   ]
  },
  {
   "cell_type": "code",
   "execution_count": null,
   "metadata": {},
   "outputs": [],
   "source": []
  },
  {
   "cell_type": "code",
   "execution_count": null,
   "metadata": {},
   "outputs": [],
   "source": []
  }
 ],
 "metadata": {
  "kernelspec": {
   "display_name": "Python 3",
   "language": "python",
   "name": "python3"
  },
  "language_info": {
   "codemirror_mode": {
    "name": "ipython",
    "version": 3
   },
   "file_extension": ".py",
   "mimetype": "text/x-python",
   "name": "python",
   "nbconvert_exporter": "python",
   "pygments_lexer": "ipython3",
   "version": "3.6.8"
  }
 },
 "nbformat": 4,
 "nbformat_minor": 2
}
